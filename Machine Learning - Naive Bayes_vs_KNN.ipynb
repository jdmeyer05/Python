{
  "nbformat": 4,
  "nbformat_minor": 0,
  "metadata": {
    "kernelspec": {
      "display_name": "Python 3",
      "language": "python",
      "name": "python3"
    },
    "language_info": {
      "codemirror_mode": {
        "name": "ipython",
        "version": 3
      },
      "file_extension": ".py",
      "mimetype": "text/x-python",
      "name": "python",
      "nbconvert_exporter": "python",
      "pygments_lexer": "ipython3",
      "version": "3.8.3"
    },
    "colab": {
      "provenance": []
    }
  },
  "cells": [
    {
      "cell_type": "markdown",
      "metadata": {
        "id": "v_oSJMyHJBNL"
      },
      "source": [
        "# Justin Meyer        CS 5310 Ch. 4 Lab - Naive Bayes & kNN"
      ]
    },
    {
      "cell_type": "markdown",
      "metadata": {
        "id": "CIKat5-vJBNM"
      },
      "source": [
        "In this lab I will do some data preprocessing to control for multicollinearity and then normalize the data set before running the kNN algorithm and also running the Naive Bayes model"
      ]
    },
    {
      "cell_type": "code",
      "metadata": {
        "scrolled": true,
        "id": "tXOsyFdNJBNM"
      },
      "source": [
        "import pandas as pd\n",
        "import numpy as np"
      ],
      "execution_count": null,
      "outputs": []
    },
    {
      "cell_type": "code",
      "metadata": {
        "id": "lel_HpOMJBNP"
      },
      "source": [
        "# Import the Features data sets\n",
        "\n",
        "df1 = pd.read_csv('https://raw.githubusercontent.com/jdmeyer05/CS-5310/Ch-4/BG_features.csv')\n",
        "df2 = pd.read_csv('https://raw.githubusercontent.com/jdmeyer05/CS-5310/Ch-4/FZ_features.csv')\n",
        "df3 = pd.read_csv('https://raw.githubusercontent.com/jdmeyer05/CS-5310/Ch-4/MJ_features.csv')\n",
        "df4 = pd.read_csv('https://raw.githubusercontent.com/jdmeyer05/CS-5310/Ch-4/MR_features.csv')\n",
        "df5 = pd.read_csv('https://raw.githubusercontent.com/jdmeyer05/CS-5310/Ch-4/YH_features.csv')\n",
        "Features_df = pd.concat([df1, df2, df3, df4, df5], axis=0)"
      ],
      "execution_count": null,
      "outputs": []
    },
    {
      "cell_type": "code",
      "metadata": {
        "scrolled": true,
        "id": "WE4FWfHDJBNR"
      },
      "source": [
        "# Import the Objects data sets\n",
        "\n",
        "df1 = pd.read_csv('https://raw.githubusercontent.com/jdmeyer05/CS-5310/Ch-4/BG_objects.csv')\n",
        "df2 = pd.read_csv('https://raw.githubusercontent.com/jdmeyer05/CS-5310/Ch-4/FZ_objects.csv')\n",
        "df3 = pd.read_csv('https://raw.githubusercontent.com/jdmeyer05/CS-5310/Ch-4/MJ_objects.csv')\n",
        "df4 = pd.read_csv('https://raw.githubusercontent.com/jdmeyer05/CS-5310/Ch-4/MR_objects.csv')\n",
        "df5 = pd.read_csv('https://raw.githubusercontent.com/jdmeyer05/CS-5310/Ch-4/YH_objects.csv')\n",
        "Objects_df = pd.concat([df1, df2, df3, df4, df5], axis=0)"
      ],
      "execution_count": null,
      "outputs": []
    },
    {
      "cell_type": "code",
      "metadata": {
        "scrolled": true,
        "id": "l7uGUboaJBNT"
      },
      "source": [
        "# Create the correlation matrix and convert values to absolute values\n",
        "\n",
        "cor_output = Features_df.corr(method='pearson', min_periods=1).abs()"
      ],
      "execution_count": null,
      "outputs": []
    },
    {
      "cell_type": "code",
      "metadata": {
        "id": "xNTFP2tJJBNV"
      },
      "source": [
        "# Create come logic to quickly remove all values correlated that is above .80\n",
        "\n",
        "mask = np.triu(np.ones_like(cor_output, dtype=bool))\n",
        "tri_df = cor_output.mask(mask)\n",
        "\n",
        "to_drop = [c for c in tri_df.columns if any(tri_df[c] > 0.80)]\n",
        "\n",
        "reduced_df = Features_df.drop(to_drop, axis=1)"
      ],
      "execution_count": null,
      "outputs": []
    },
    {
      "cell_type": "code",
      "metadata": {
        "scrolled": true,
        "id": "JCtjukA9JBNX"
      },
      "source": [
        "# Normalize the features using the preprocessing MinMaxScaler from sklearn\n",
        "\n",
        "from sklearn import preprocessing\n",
        "x = reduced_df.values\n",
        "min_max_scaler = preprocessing.MinMaxScaler()\n",
        "x_scaled = min_max_scaler.fit_transform(x)\n",
        "normalized_df = pd.DataFrame(x_scaled)"
      ],
      "execution_count": null,
      "outputs": []
    },
    {
      "cell_type": "code",
      "metadata": {
        "id": "Y7_aa2BOJBNZ"
      },
      "source": [
        "# Add back in the column headers\n",
        "\n",
        "col_names = pd.DataFrame(reduced_df.columns)\n",
        "normalized_df.columns = col_names"
      ],
      "execution_count": null,
      "outputs": []
    },
    {
      "cell_type": "code",
      "metadata": {
        "id": "_DnTeSJLJBNe"
      },
      "source": [
        "# Fixes an issue with the indexing for the Objects dataframe\n",
        "\n",
        "Objects_df.reset_index(drop=True, inplace=True)"
      ],
      "execution_count": null,
      "outputs": []
    },
    {
      "cell_type": "code",
      "metadata": {
        "scrolled": true,
        "id": "Bn9yStJyJBNh",
        "colab": {
          "base_uri": "https://localhost:8080/",
          "height": 255
        },
        "outputId": "840afc13-b362-4198-adf7-3b4efa06c694"
      },
      "source": [
        "# Combine the dataframes\n",
        "\n",
        "Full_df = Objects_df.join(normalized_df)\n",
        "print(Full_df)"
      ],
      "execution_count": null,
      "outputs": [
        {
          "output_type": "stream",
          "text": [
            "      Object  (theta,)  (alpha,)  ...  (fisher_info,)  (approx_entropy,)  (Hurst,)\n",
            "0          3  0.177296  0.624308  ...        0.797799           0.799616  0.251382\n",
            "1          2  0.375720  0.552349  ...        0.689945           0.650469  0.624338\n",
            "2          5  0.483188  0.703620  ...        0.735459           0.810045  0.620844\n",
            "3          1  0.482025  0.399041  ...        0.732483           0.790113  0.609107\n",
            "4          1  0.749544  0.580101  ...        0.696438           0.712048  0.417715\n",
            "...      ...       ...       ...  ...             ...                ...       ...\n",
            "1265       2  0.445493  0.399895  ...        0.175358           0.098613  0.385846\n",
            "1266       1  0.415657  0.337500  ...        0.165410           0.038583  0.573744\n",
            "1267       2  0.177419  0.247819  ...        0.814458           0.811026  0.536741\n",
            "1268       1  0.303140  0.558863  ...        0.852198           0.764204  0.257675\n",
            "1269       3  0.217280  0.261221  ...        0.830967           0.838824  0.346550\n",
            "\n",
            "[1270 rows x 14 columns]\n"
          ],
          "name": "stdout"
        }
      ]
    },
    {
      "cell_type": "code",
      "metadata": {
        "id": "yqfMidmoJBNk"
      },
      "source": [
        "# Split the data into features and labels\n",
        "\n",
        "X = np.array(Full_df.drop(['Object'],1))\n",
        "y = np.array(Full_df['Object'])"
      ],
      "execution_count": null,
      "outputs": []
    },
    {
      "cell_type": "code",
      "metadata": {
        "id": "YYRpGlo3JBNm"
      },
      "source": [
        "# Split the data into training data set and testing data set\n",
        "\n",
        "from sklearn.model_selection import train_test_split\n",
        "X_train, X_test, y_train, y_test = train_test_split(X, y, test_size = 0.20, random_state = 0)"
      ],
      "execution_count": null,
      "outputs": []
    },
    {
      "cell_type": "code",
      "metadata": {
        "id": "zJTA3fVMJBNo",
        "colab": {
          "base_uri": "https://localhost:8080/",
          "height": 235
        },
        "outputId": "ae977218-1e44-4d83-e470-b43019a3d173"
      },
      "source": [
        "# Train the kNN model and output the crosstab\n",
        "\n",
        "from sklearn.neighbors import KNeighborsClassifier\n",
        "neigh = KNeighborsClassifier(n_neighbors=7)\n",
        "neigh.fit(X_train, y_train)\n",
        "nuro_test_pred = neigh.predict(X_test)\n",
        "pd.crosstab(y_test, nuro_test_pred)"
      ],
      "execution_count": null,
      "outputs": [
        {
          "output_type": "execute_result",
          "data": {
            "text/html": [
              "<div>\n",
              "<style scoped>\n",
              "    .dataframe tbody tr th:only-of-type {\n",
              "        vertical-align: middle;\n",
              "    }\n",
              "\n",
              "    .dataframe tbody tr th {\n",
              "        vertical-align: top;\n",
              "    }\n",
              "\n",
              "    .dataframe thead th {\n",
              "        text-align: right;\n",
              "    }\n",
              "</style>\n",
              "<table border=\"1\" class=\"dataframe\">\n",
              "  <thead>\n",
              "    <tr style=\"text-align: right;\">\n",
              "      <th>col_0</th>\n",
              "      <th>1</th>\n",
              "      <th>2</th>\n",
              "      <th>3</th>\n",
              "      <th>4</th>\n",
              "      <th>5</th>\n",
              "    </tr>\n",
              "    <tr>\n",
              "      <th>row_0</th>\n",
              "      <th></th>\n",
              "      <th></th>\n",
              "      <th></th>\n",
              "      <th></th>\n",
              "      <th></th>\n",
              "    </tr>\n",
              "  </thead>\n",
              "  <tbody>\n",
              "    <tr>\n",
              "      <th>1</th>\n",
              "      <td>26</td>\n",
              "      <td>11</td>\n",
              "      <td>3</td>\n",
              "      <td>6</td>\n",
              "      <td>9</td>\n",
              "    </tr>\n",
              "    <tr>\n",
              "      <th>2</th>\n",
              "      <td>20</td>\n",
              "      <td>14</td>\n",
              "      <td>7</td>\n",
              "      <td>6</td>\n",
              "      <td>9</td>\n",
              "    </tr>\n",
              "    <tr>\n",
              "      <th>3</th>\n",
              "      <td>16</td>\n",
              "      <td>9</td>\n",
              "      <td>10</td>\n",
              "      <td>5</td>\n",
              "      <td>11</td>\n",
              "    </tr>\n",
              "    <tr>\n",
              "      <th>4</th>\n",
              "      <td>13</td>\n",
              "      <td>7</td>\n",
              "      <td>9</td>\n",
              "      <td>9</td>\n",
              "      <td>8</td>\n",
              "    </tr>\n",
              "    <tr>\n",
              "      <th>5</th>\n",
              "      <td>18</td>\n",
              "      <td>9</td>\n",
              "      <td>7</td>\n",
              "      <td>5</td>\n",
              "      <td>7</td>\n",
              "    </tr>\n",
              "  </tbody>\n",
              "</table>\n",
              "</div>"
            ],
            "text/plain": [
              "col_0   1   2   3  4   5\n",
              "row_0                   \n",
              "1      26  11   3  6   9\n",
              "2      20  14   7  6   9\n",
              "3      16   9  10  5  11\n",
              "4      13   7   9  9   8\n",
              "5      18   9   7  5   7"
            ]
          },
          "metadata": {
            "tags": []
          },
          "execution_count": 12
        }
      ]
    },
    {
      "cell_type": "code",
      "metadata": {
        "id": "vJVQqG_bJBNr",
        "colab": {
          "base_uri": "https://localhost:8080/",
          "height": 34
        },
        "outputId": "9074105b-f7ac-46e3-f420-4edf2cd648a2"
      },
      "source": [
        "# How accurate is the kNN model?\n",
        "\n",
        "accuracy = neigh.score(X_test, y_test)\n",
        "print(accuracy)"
      ],
      "execution_count": null,
      "outputs": [
        {
          "output_type": "stream",
          "text": [
            "0.25984251968503935\n"
          ],
          "name": "stdout"
        }
      ]
    },
    {
      "cell_type": "code",
      "metadata": {
        "id": "ctup2APXxC7z"
      },
      "source": [
        "# Split the data into training data set and testing data set\n",
        "\n",
        "from sklearn.model_selection import train_test_split\n",
        "X_trainN, X_testN, y_trainN, y_testN = train_test_split(X, y, test_size = 0.20, random_state = 0)"
      ],
      "execution_count": null,
      "outputs": []
    },
    {
      "cell_type": "code",
      "metadata": {
        "id": "_O8eJL7cO1vz",
        "colab": {
          "base_uri": "https://localhost:8080/",
          "height": 204
        },
        "outputId": "8fd48146-a42e-43f4-b022-ec58b708d5cc"
      },
      "source": [
        "from sklearn.naive_bayes import MultinomialNB \n",
        "mnb = MultinomialNB(alpha=1) \n",
        "Nuro_test_pred = mnb.fit(X_trainN, y_trainN).predict(X_testN) \n",
        "pd.crosstab(Nuro_test_pred, y_testN)"
      ],
      "execution_count": null,
      "outputs": [
        {
          "output_type": "execute_result",
          "data": {
            "text/html": [
              "<div>\n",
              "<style scoped>\n",
              "    .dataframe tbody tr th:only-of-type {\n",
              "        vertical-align: middle;\n",
              "    }\n",
              "\n",
              "    .dataframe tbody tr th {\n",
              "        vertical-align: top;\n",
              "    }\n",
              "\n",
              "    .dataframe thead th {\n",
              "        text-align: right;\n",
              "    }\n",
              "</style>\n",
              "<table border=\"1\" class=\"dataframe\">\n",
              "  <thead>\n",
              "    <tr style=\"text-align: right;\">\n",
              "      <th>col_0</th>\n",
              "      <th>1</th>\n",
              "      <th>2</th>\n",
              "      <th>3</th>\n",
              "      <th>4</th>\n",
              "      <th>5</th>\n",
              "    </tr>\n",
              "    <tr>\n",
              "      <th>row_0</th>\n",
              "      <th></th>\n",
              "      <th></th>\n",
              "      <th></th>\n",
              "      <th></th>\n",
              "      <th></th>\n",
              "    </tr>\n",
              "  </thead>\n",
              "  <tbody>\n",
              "    <tr>\n",
              "      <th>2</th>\n",
              "      <td>0</td>\n",
              "      <td>0</td>\n",
              "      <td>0</td>\n",
              "      <td>0</td>\n",
              "      <td>1</td>\n",
              "    </tr>\n",
              "    <tr>\n",
              "      <th>3</th>\n",
              "      <td>5</td>\n",
              "      <td>1</td>\n",
              "      <td>4</td>\n",
              "      <td>4</td>\n",
              "      <td>7</td>\n",
              "    </tr>\n",
              "    <tr>\n",
              "      <th>4</th>\n",
              "      <td>1</td>\n",
              "      <td>6</td>\n",
              "      <td>1</td>\n",
              "      <td>5</td>\n",
              "      <td>1</td>\n",
              "    </tr>\n",
              "    <tr>\n",
              "      <th>5</th>\n",
              "      <td>49</td>\n",
              "      <td>49</td>\n",
              "      <td>46</td>\n",
              "      <td>37</td>\n",
              "      <td>37</td>\n",
              "    </tr>\n",
              "  </tbody>\n",
              "</table>\n",
              "</div>"
            ],
            "text/plain": [
              "col_0   1   2   3   4   5\n",
              "row_0                    \n",
              "2       0   0   0   0   1\n",
              "3       5   1   4   4   7\n",
              "4       1   6   1   5   1\n",
              "5      49  49  46  37  37"
            ]
          },
          "metadata": {
            "tags": []
          },
          "execution_count": 15
        }
      ]
    },
    {
      "cell_type": "code",
      "metadata": {
        "id": "Y5JLDs5EvkHG",
        "colab": {
          "base_uri": "https://localhost:8080/",
          "height": 119
        },
        "outputId": "c5907763-94c2-4d19-a546-a81b4d0954e1"
      },
      "source": [
        "# How accurate is the Naive Bayes model?\n",
        "\n",
        "from sklearn.metrics import confusion_matrix, accuracy_score\n",
        "cm = confusion_matrix(y_testN, Nuro_test_pred)\n",
        "print(cm)\n",
        "accuracy_score(y_testN, Nuro_test_pred)"
      ],
      "execution_count": null,
      "outputs": [
        {
          "output_type": "stream",
          "text": [
            "[[ 0  0  5  1 49]\n",
            " [ 0  0  1  6 49]\n",
            " [ 0  0  4  1 46]\n",
            " [ 0  0  4  5 37]\n",
            " [ 0  1  7  1 37]]\n"
          ],
          "name": "stdout"
        },
        {
          "output_type": "execute_result",
          "data": {
            "text/plain": [
              "0.18110236220472442"
            ]
          },
          "metadata": {
            "tags": []
          },
          "execution_count": 16
        }
      ]
    },
    {
      "cell_type": "markdown",
      "metadata": {
        "id": "PVTMCEBXJBNt"
      },
      "source": [
        "# Conclusion"
      ]
    },
    {
      "cell_type": "markdown",
      "metadata": {
        "id": "-agK-RqxJBNt"
      },
      "source": [
        "The kNN model was only 25.98% accurate in predicting which object belonged to which set of features. If we look at the confusion matrix for the Naive Bayes model the accuracy is only 18.11% which means this model is less accurate than using a kNN model."
      ]
    },
    {
      "cell_type": "code",
      "metadata": {
        "id": "WTorqA5edEln"
      },
      "source": [],
      "execution_count": null,
      "outputs": []
    }
  ]
}