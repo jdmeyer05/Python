{
  "nbformat": 4,
  "nbformat_minor": 0,
  "metadata": {
    "kernelspec": {
      "display_name": "Python 3",
      "language": "python",
      "name": "python3"
    },
    "language_info": {
      "codemirror_mode": {
        "name": "ipython",
        "version": 3
      },
      "file_extension": ".py",
      "mimetype": "text/x-python",
      "name": "python",
      "nbconvert_exporter": "python",
      "pygments_lexer": "ipython3",
      "version": "3.8.3"
    },
    "colab": {
      "provenance": []
    }
  },
  "cells": [
    {
      "cell_type": "markdown",
      "metadata": {
        "id": "v_oSJMyHJBNL"
      },
      "source": [
        "# Justin Meyer        CS 5310 Ch. 3 Lab - kNN"
      ]
    },
    {
      "cell_type": "markdown",
      "metadata": {
        "id": "CIKat5-vJBNM"
      },
      "source": [
        "In this lab I will do some data preprocessing to control for multicollinearity and then normalize the data set before running the kNN algorithm"
      ]
    },
    {
      "cell_type": "code",
      "metadata": {
        "scrolled": true,
        "id": "tXOsyFdNJBNM"
      },
      "source": [
        "import pandas as pd\n",
        "import numpy as np"
      ],
      "execution_count": null,
      "outputs": []
    },
    {
      "cell_type": "code",
      "metadata": {
        "id": "lel_HpOMJBNP"
      },
      "source": [
        "# Import the Features data sets\n",
        "\n",
        "df1 = pd.read_csv('https://raw.githubusercontent.com/jdmeyer05/CS-5310/Ch-3/BG_features.csv')\n",
        "df2 = pd.read_csv('https://raw.githubusercontent.com/jdmeyer05/CS-5310/Ch-3/FZ_features.csv')\n",
        "df3 = pd.read_csv('https://raw.githubusercontent.com/jdmeyer05/CS-5310/Ch-3/MJ_features.csv')\n",
        "df4 = pd.read_csv('https://raw.githubusercontent.com/jdmeyer05/CS-5310/Ch-3/MR_features.csv')\n",
        "df5 = pd.read_csv('https://raw.githubusercontent.com/jdmeyer05/CS-5310/Ch-3/YH_features.csv')\n",
        "Features_df = pd.concat([df1, df2, df3, df4, df5], axis=0)"
      ],
      "execution_count": null,
      "outputs": []
    },
    {
      "cell_type": "code",
      "metadata": {
        "scrolled": true,
        "id": "WE4FWfHDJBNR"
      },
      "source": [
        "# Import the Objects data sets\n",
        "\n",
        "df1 = pd.read_csv('https://raw.githubusercontent.com/jdmeyer05/CS-5310/Ch-3/BG_objects.csv')\n",
        "df2 = pd.read_csv('https://raw.githubusercontent.com/jdmeyer05/CS-5310/Ch-3/FZ_objects.csv')\n",
        "df3 = pd.read_csv('https://raw.githubusercontent.com/jdmeyer05/CS-5310/Ch-3/MJ_objects.csv')\n",
        "df4 = pd.read_csv('https://raw.githubusercontent.com/jdmeyer05/CS-5310/Ch-3/MR_objects.csv')\n",
        "df5 = pd.read_csv('https://raw.githubusercontent.com/jdmeyer05/CS-5310/Ch-3/YH_objects.csv')\n",
        "Objects_df = pd.concat([df1, df2, df3, df4, df5], axis=0)"
      ],
      "execution_count": null,
      "outputs": []
    },
    {
      "cell_type": "code",
      "metadata": {
        "scrolled": true,
        "id": "l7uGUboaJBNT"
      },
      "source": [
        "# Create the correlation matrix and convert values to absolute values\n",
        "\n",
        "cor_output = Features_df.corr(method='pearson', min_periods=1).abs()"
      ],
      "execution_count": null,
      "outputs": []
    },
    {
      "cell_type": "code",
      "metadata": {
        "id": "xNTFP2tJJBNV"
      },
      "source": [
        "# Create come logic to quickly remove all values correlated that is above .80\n",
        "\n",
        "mask = np.triu(np.ones_like(cor_output, dtype=bool))\n",
        "tri_df = cor_output.mask(mask)\n",
        "\n",
        "to_drop = [c for c in tri_df.columns if any(tri_df[c] > 0.80)]\n",
        "\n",
        "reduced_df = Features_df.drop(to_drop, axis=1)"
      ],
      "execution_count": null,
      "outputs": []
    },
    {
      "cell_type": "code",
      "metadata": {
        "scrolled": true,
        "id": "JCtjukA9JBNX"
      },
      "source": [
        "# Normalize the features using the preprocessing MinMaxScaler from sklearn\n",
        "\n",
        "from sklearn import preprocessing\n",
        "x = reduced_df.values\n",
        "min_max_scaler = preprocessing.MinMaxScaler()\n",
        "x_scaled = min_max_scaler.fit_transform(x)\n",
        "normalized_df = pd.DataFrame(x_scaled)"
      ],
      "execution_count": null,
      "outputs": []
    },
    {
      "cell_type": "code",
      "metadata": {
        "id": "Y7_aa2BOJBNZ"
      },
      "source": [
        "# Add back in the column headers\n",
        "\n",
        "col_names = pd.DataFrame(reduced_df.columns)\n",
        "normalized_df.columns = col_names"
      ],
      "execution_count": null,
      "outputs": []
    },
    {
      "cell_type": "code",
      "metadata": {
        "id": "_DnTeSJLJBNe"
      },
      "source": [
        "# Fixes an issue with the indexing for the Objects dataframe\n",
        "\n",
        "Objects_df.reset_index(drop=True, inplace=True)"
      ],
      "execution_count": null,
      "outputs": []
    },
    {
      "cell_type": "code",
      "metadata": {
        "scrolled": true,
        "id": "Bn9yStJyJBNh",
        "colab": {
          "base_uri": "https://localhost:8080/",
          "height": 255
        },
        "outputId": "8137a5e5-d53c-4285-cda5-d1d1efccae28"
      },
      "source": [
        "# Combine the dataframes\n",
        "\n",
        "Full_df = Objects_df.join(normalized_df)\n",
        "print(Full_df)"
      ],
      "execution_count": null,
      "outputs": [
        {
          "output_type": "stream",
          "text": [
            "      # Object  (beta0,)  ...  (approx_entropy4,)  (Hurst4,)\n",
            "0            3  0.157238  ...            0.048792   0.907102\n",
            "1            2  0.151668  ...            0.129909   0.923736\n",
            "2            5  0.121261  ...            0.475110   0.620028\n",
            "3            1  0.151377  ...            0.191514   0.924104\n",
            "4            1  0.177493  ...            0.062870   0.983125\n",
            "...        ...       ...  ...                 ...        ...\n",
            "1265         2  0.075409  ...            0.127790   0.891287\n",
            "1266         1  0.087652  ...            0.185483   0.882339\n",
            "1267         2  0.098463  ...            0.087741   0.716462\n",
            "1268         1  0.704196  ...            0.109323   0.947004\n",
            "1269         3  0.112723  ...            0.106556   0.749792\n",
            "\n",
            "[1270 rows x 51 columns]\n"
          ],
          "name": "stdout"
        }
      ]
    },
    {
      "cell_type": "code",
      "metadata": {
        "id": "yqfMidmoJBNk"
      },
      "source": [
        "# Split the data into features and labels\n",
        "\n",
        "X = np.array(Full_df.drop(['# Object'],1))\n",
        "y = np.array(Full_df['# Object'])"
      ],
      "execution_count": null,
      "outputs": []
    },
    {
      "cell_type": "code",
      "metadata": {
        "id": "YYRpGlo3JBNm"
      },
      "source": [
        "# Split the data into training data set and testing data set\n",
        "\n",
        "from sklearn.model_selection import train_test_split\n",
        "X_train, X_test, y_train, y_test = train_test_split(X, y, test_size = 0.20, random_state = 0)"
      ],
      "execution_count": null,
      "outputs": []
    },
    {
      "cell_type": "code",
      "metadata": {
        "id": "zJTA3fVMJBNo",
        "colab": {
          "base_uri": "https://localhost:8080/",
          "height": 235
        },
        "outputId": "1b19a2a9-039d-44bd-d533-c6e6cd36f71b"
      },
      "source": [
        "# Train the kNN model and output the crosstab\n",
        "\n",
        "from sklearn.neighbors import KNeighborsClassifier\n",
        "neigh = KNeighborsClassifier(n_neighbors=7)\n",
        "neigh.fit(X_train, y_train)\n",
        "nuro_test_pred = neigh.predict(X_test)\n",
        "pd.crosstab(y_test, nuro_test_pred)"
      ],
      "execution_count": null,
      "outputs": [
        {
          "output_type": "execute_result",
          "data": {
            "text/html": [
              "<div>\n",
              "<style scoped>\n",
              "    .dataframe tbody tr th:only-of-type {\n",
              "        vertical-align: middle;\n",
              "    }\n",
              "\n",
              "    .dataframe tbody tr th {\n",
              "        vertical-align: top;\n",
              "    }\n",
              "\n",
              "    .dataframe thead th {\n",
              "        text-align: right;\n",
              "    }\n",
              "</style>\n",
              "<table border=\"1\" class=\"dataframe\">\n",
              "  <thead>\n",
              "    <tr style=\"text-align: right;\">\n",
              "      <th>col_0</th>\n",
              "      <th>1</th>\n",
              "      <th>2</th>\n",
              "      <th>3</th>\n",
              "      <th>4</th>\n",
              "      <th>5</th>\n",
              "    </tr>\n",
              "    <tr>\n",
              "      <th>row_0</th>\n",
              "      <th></th>\n",
              "      <th></th>\n",
              "      <th></th>\n",
              "      <th></th>\n",
              "      <th></th>\n",
              "    </tr>\n",
              "  </thead>\n",
              "  <tbody>\n",
              "    <tr>\n",
              "      <th>1</th>\n",
              "      <td>19</td>\n",
              "      <td>8</td>\n",
              "      <td>15</td>\n",
              "      <td>6</td>\n",
              "      <td>7</td>\n",
              "    </tr>\n",
              "    <tr>\n",
              "      <th>2</th>\n",
              "      <td>22</td>\n",
              "      <td>11</td>\n",
              "      <td>7</td>\n",
              "      <td>8</td>\n",
              "      <td>8</td>\n",
              "    </tr>\n",
              "    <tr>\n",
              "      <th>3</th>\n",
              "      <td>18</td>\n",
              "      <td>8</td>\n",
              "      <td>7</td>\n",
              "      <td>11</td>\n",
              "      <td>7</td>\n",
              "    </tr>\n",
              "    <tr>\n",
              "      <th>4</th>\n",
              "      <td>19</td>\n",
              "      <td>7</td>\n",
              "      <td>10</td>\n",
              "      <td>6</td>\n",
              "      <td>4</td>\n",
              "    </tr>\n",
              "    <tr>\n",
              "      <th>5</th>\n",
              "      <td>15</td>\n",
              "      <td>12</td>\n",
              "      <td>5</td>\n",
              "      <td>5</td>\n",
              "      <td>9</td>\n",
              "    </tr>\n",
              "  </tbody>\n",
              "</table>\n",
              "</div>"
            ],
            "text/plain": [
              "col_0   1   2   3   4  5\n",
              "row_0                   \n",
              "1      19   8  15   6  7\n",
              "2      22  11   7   8  8\n",
              "3      18   8   7  11  7\n",
              "4      19   7  10   6  4\n",
              "5      15  12   5   5  9"
            ]
          },
          "metadata": {
            "tags": []
          },
          "execution_count": 12
        }
      ]
    },
    {
      "cell_type": "code",
      "metadata": {
        "id": "vJVQqG_bJBNr",
        "colab": {
          "base_uri": "https://localhost:8080/",
          "height": 34
        },
        "outputId": "b17911aa-826d-45dc-c6fa-b8147fde0eb7"
      },
      "source": [
        "# How accurate is the model?\n",
        "\n",
        "accuracy = neigh.score(X_test, y_test)\n",
        "print(accuracy)"
      ],
      "execution_count": null,
      "outputs": [
        {
          "output_type": "stream",
          "text": [
            "0.2047244094488189\n"
          ],
          "name": "stdout"
        }
      ]
    },
    {
      "cell_type": "code",
      "metadata": {
        "id": "_O8eJL7cO1vz"
      },
      "source": [
        "from matplotlib import pyplot as plt\n",
        "plt.plot()"
      ],
      "execution_count": null,
      "outputs": []
    },
    {
      "cell_type": "markdown",
      "metadata": {
        "id": "PVTMCEBXJBNt"
      },
      "source": [
        "# Conclusion"
      ]
    },
    {
      "cell_type": "markdown",
      "metadata": {
        "id": "-agK-RqxJBNt"
      },
      "source": [
        "The model was only 20% accurate in predicting which object belonged to which set of features"
      ]
    }
  ]
}