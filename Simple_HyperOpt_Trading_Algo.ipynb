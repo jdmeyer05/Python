{
  "nbformat": 4,
  "nbformat_minor": 0,
  "metadata": {
    "colab": {
      "provenance": [],
      "collapsed_sections": [],
      "machine_shape": "hm"
    },
    "kernelspec": {
      "display_name": "Python 3",
      "name": "python3"
    },
    "language_info": {
      "name": "python"
    }
  },
  "cells": [
    {
      "cell_type": "code",
      "metadata": {
        "id": "jlLhRCixU52w"
      },
      "source": [
        "!pip install yfinance\n",
        "!pip install -q --upgrade ipython\n",
        "!pip install -q --upgrade ipykernel\n",
        "!pip install ta\n",
        "!pip install backtrader\n",
        "!pip install datetime"
      ],
      "execution_count": null,
      "outputs": []
    },
    {
      "cell_type": "code",
      "metadata": {
        "id": "OniVELWYbSG4"
      },
      "source": [
        "import pandas as pd\n",
        "import numpy as np\n",
        "from tqdm import tqdm\n",
        "import matplotlib.pyplot as plt\n",
        "pd.options.mode.chained_assignment = None  # default='warn'\n",
        "from datetime import datetime\n",
        "import io as io\n",
        "import random as random\n",
        "import hyperopt as hp\n",
        "from hyperopt import fmin, tpe, hp, STATUS_OK, Trials\n",
        "from hyperopt.pyll.base import scope\n",
        "from functools import partial\n",
        "import pandas_datareader as pandas_datareader\n",
        "#to visualize the results\n",
        "import seaborn as sns\n",
        "from pandas_datareader import data as pdr\n",
        "# add technical analysis features\n",
        "from ta.trend import macd\n",
        "from ta.trend import macd_signal\n",
        "from ta.trend import macd_diff\n",
        "from ta.volatility import bollinger_wband\n",
        "from ta.trend import sma_indicator\n",
        "from ta.momentum import rsi\n",
        "from ta.momentum import stochrsi\n",
        "from ta.volatility import bollinger_pband\n",
        "from ta.volume import volume_weighted_average_price\n",
        "from ta.volatility import average_true_range\n",
        "\n",
        "import yfinance as yf\n",
        "yf.pdr_override() # <== that's all it takes :-)\n",
        "%load_ext google.colab.data_table"
      ],
      "execution_count": null,
      "outputs": []
    },
    {
      "cell_type": "code",
      "metadata": {
        "colab": {
          "base_uri": "https://localhost:8080/"
        },
        "id": "ctbawQHNvlnS",
        "outputId": "cab9801d-143c-421a-dc58-5a68e48a3a74"
      },
      "source": [
        "from google.colab import drive\n",
        "drive.mount('/content/drive')"
      ],
      "execution_count": null,
      "outputs": [
        {
          "output_type": "stream",
          "name": "stdout",
          "text": [
            "Drive already mounted at /content/drive; to attempt to forcibly remount, call drive.mount(\"/content/drive\", force_remount=True).\n"
          ]
        }
      ]
    },
    {
      "cell_type": "code",
      "metadata": {
        "id": "G0xPtlEP8xeX",
        "colab": {
          "base_uri": "https://localhost:8080/"
        },
        "outputId": "11cdeb48-98fa-4cb1-f9be-bdf0f6744059"
      },
      "source": [
        "colnames=['Date', 'Time', 'Open', 'High', 'Low', 'Close', 'Volume'] \n",
        "main_df = pd.read_csv(\"/content/drive/MyDrive/Trading/ETF Data Sets/QQQ.txt\", names=colnames, header=None)\n",
        "main_df['Date'] = tqdm(pd.to_datetime(main_df['Date']))"
      ],
      "execution_count": null,
      "outputs": [
        {
          "output_type": "stream",
          "name": "stderr",
          "text": [
            "100%|██████████| 3354500/3354500 [00:07<00:00, 476776.36it/s]\n"
          ]
        }
      ]
    },
    {
      "cell_type": "code",
      "metadata": {
        "id": "aLBHinBCUPFQ"
      },
      "source": [
        "# Time Slicer\n",
        "\n",
        "# First 2 minutes of the morning\n",
        "subsetDataFrame = main_df[main_df['Time'] == '09:31']\n",
        "\n",
        "# # 5 minute slice\n",
        "# main_df2 = main_df\n",
        "# _5min_df = main_df[::5]"
      ],
      "execution_count": null,
      "outputs": []
    },
    {
      "cell_type": "code",
      "metadata": {
        "id": "p81XQzuKls1e"
      },
      "source": [
        "filtered_Close = main_df2.loc[(main_df2['Date/Time'] >= '2020-10-29')\n",
        "                     & (main_df2['Date/Time'] < '2021-11-09')]"
      ],
      "execution_count": null,
      "outputs": []
    },
    {
      "cell_type": "code",
      "metadata": {
        "id": "rDYzTR1UEfW4"
      },
      "source": [
        "filtered_Close = main_df.loc[(main_df['Date'] >= '2011-11-09')\n",
        "                     & (main_df['Date'] < '2021-11-09')]"
      ],
      "execution_count": null,
      "outputs": []
    },
    {
      "cell_type": "code",
      "metadata": {
        "colab": {
          "base_uri": "https://localhost:8080/"
        },
        "id": "jHMt54l_COnx",
        "outputId": "9ab48a5c-9c34-4ae0-df4d-9d88de25f032"
      },
      "source": [
        " #list1 = set(main_df2['Time'])\n",
        " for v in tqdm(range(0,len(list1))): \n",
        "  filtered_Close = filtered_Close.loc[~((filtered_Close['Time'] == list1[v]))]"
      ],
      "execution_count": null,
      "outputs": [
        {
          "output_type": "stream",
          "name": "stderr",
          "text": [
            "100%|██████████| 596/596 [00:01<00:00, 333.04it/s]\n"
          ]
        }
      ]
    },
    {
      "cell_type": "code",
      "metadata": {
        "colab": {
          "base_uri": "https://localhost:8080/"
        },
        "id": "tUlTigygUGby",
        "outputId": "a48d9222-41c3-4c48-80af-9f37d48479b1"
      },
      "source": [
        "MA_Length = 30 # 79\n",
        "BBW_Threshold = 15 # 69.82\n",
        "# BBp_Threshold = 7\n",
        "# MA_Length = params['MA_Length']\n",
        "# BBW_Threshold = params['BBW_Threshold']\n",
        "# Signal_Threshold = params['Signal_Threshold']\n",
        "MACD_Length = 20\n",
        "RSI_Threshold_BUY = 60\n",
        "RSI_Threshold_SELL = 8\n",
        "Inital_Capital = 10000\n",
        "\n",
        "# Initializes data to the Close dataframe\n",
        "Close = _5min_df[['Date','Time','Open', 'Close', 'Volume', 'High', 'Low']]\n",
        "\n",
        "# Calculates the Moving Average\n",
        "Close[\"SMA\"] = sma_indicator(Close.Close,  window=MA_Length)\n",
        "Close['MACD'] = macd(Close.Close)\n",
        "Close['BBW'] = 10*bollinger_wband(Close.Close, 20, 2)\n",
        "Close['SIGNAL'] = macd_signal(Close.Close)\n",
        "Close['RSI'] = 100*stochrsi(Close.Close)\n",
        "Close['BB%'] = 100*bollinger_pband(Close.Close)\n",
        "Close['VWAP'] = volume_weighted_average_price(Close.High, Close.Low, Close.Close, Close.Volume)\n",
        "Close['ATR'] = 3*average_true_range(Close.High,Close.Low, Close.Close)\n",
        "Close['High_ATR_Price'] = Close.Close + Close.ATR\n",
        "Close['Low_ATR_Price'] = Close.Close - Close.ATR\n",
        "Close['Buy'] = np.where(\n",
        "                      # (Close['SMA'] < Close['Close']) &  \n",
        "                      # (Close['SMA'] < Close['VWAP'])\n",
        "                      (Close.Close > Close.High_ATR_Price.shift(1))\n",
        "                      # (Close['MACD'] < 0) &\n",
        "                      # (Close['SIGNAL'] > Signal_Threshold) &\n",
        "                      # (Close['BBW'] > BBW_Threshold) &\n",
        "                      # (Close['BB%'] < BBp_Threshold)\n",
        "                      # (Close['RSI'] < RSI_Threshold_BUY)\n",
        "                      , 1, 0)\n",
        "\n",
        "Close['Sell'] = np.where(\n",
        "                        # (Close['SMA'] > Close['Close']) & \n",
        "                        # (Close['SMA'] > Close['VWAP'])\n",
        "                        (Close.Close < Close.Low_ATR_Price.shift(1))\n",
        "                        # (Close['MACD'] > 0) &\n",
        "                        # (Close['SIGNAL'] > Signal_Threshold) &\n",
        "                        # (Close['BBW'] > BBW_Threshold) &\n",
        "                        # (Close['BB%'] > BBp_Threshold)\n",
        "                        # (Close['RSI'] > RSI_Threshold_SELL)\n",
        "                        , 1, 0)\n",
        "\n",
        "Close['Buyprice'] = Close.Close\n",
        "Close['Sellprice'] = Close.Close\n",
        "\n",
        "x = Close[(Close.Buy == 1) | (Close.Sell == 1)]\n",
        "y = x[(x.Buy.diff() == 1) | x.Sell.diff() == 1]\n",
        "profits = ((y.Sellprice.shift(-1) - y.Buyprice)*100)\n",
        "profits = profits[::2]\n",
        "cumprofits = np.cumsum(profits) + Inital_Capital\n",
        "\n",
        "Total_Profits = round(profits.sum(),0)\n",
        "# Hold_Period_Profits = round((Close.iloc[0,2] - Close.iloc[-2,3])*-100,0)\n",
        "\n",
        "def Hold_Profits(startprice, endprice):\n",
        "  Hold_Period_Profits = round((startprice - endprice)*-100,0)\n",
        "\n",
        "  if Hold_Period_Profits < 7000:\n",
        "    Hold_Period_Profits = 7000\n",
        "  else:\n",
        "    Hold_Period_Profits\n",
        "  return Hold_Period_Profits\n",
        "\n",
        "Hold_Period_Profits = 7000\n",
        "Hold_Period_Profits = Hold_Profits(Close.iloc[0,2],Close.iloc[-2,3])\n",
        "\n",
        "Profit_Diff = round(Total_Profits-Hold_Period_Profits,0)\n",
        "Benefit_Ratio = round(Total_Profits/Hold_Period_Profits,4)\n",
        "Ave_Profits = round(profits.mean(),4)\n",
        "\n",
        "num_years = 23\n",
        "trading_days_in_a_year = 252\n",
        "total_trading_days = num_years*trading_days_in_a_year\n",
        "\n",
        "print('Total Profits ' + str(Total_Profits))\n",
        "print('Hold Period Profits ' + str(Hold_Period_Profits))\n",
        "print('Hold/Total Diff ' + str(Total_Profits-Hold_Period_Profits))\n",
        "print('Average Profits ' + str(Ave_Profits))\n",
        "# print('Hold Period Return ' + str(Hold_Period_Return))\n",
        "print('Benefit Ratio ' + str(float(Benefit_Ratio)))\n",
        "print('# of Trades ' + str(len(profits)))\n",
        "print('# of Trades/Year ' + str(len(profits)/num_years))\n",
        "# Close.to_csv(\"Close.csv\")"
      ],
      "execution_count": null,
      "outputs": [
        {
          "output_type": "stream",
          "name": "stdout",
          "text": [
            "Total Profits 21996.0\n",
            "Hold Period Profits 31547.0\n",
            "Hold/Total Diff -9551.0\n",
            "Average Profits 14.625\n",
            "Benefit Ratio 0.6972\n",
            "# of Trades 1505\n",
            "# of Trades/Year 65.43478260869566\n"
          ]
        }
      ]
    },
    {
      "cell_type": "code",
      "metadata": {
        "id": "5xXhkQvfeYfJ"
      },
      "source": [
        "print('BBW min: ' + str(Close['BBW'].min()))\n",
        "print('BBW max: ' + str(Close['BBW'].max()))\n",
        "print('BBW mean: ' + str(Close['BBW'].mean()))\n",
        "print('BBW median: ' + str(Close['BBW'].median()))"
      ],
      "execution_count": null,
      "outputs": []
    },
    {
      "cell_type": "code",
      "metadata": {
        "id": "Ko01qOzhgZ79"
      },
      "source": [
        "HyperOpt_space = {\n",
        "            # 'BBW_Threshold': scope.int(hp.quniform('BBW_Threshold',5,150,1)),\n",
        "            'MA_Length': scope.int((hp.randint('MA_Length',300))),\n",
        "            # 'VWAP_Window': scope.int((hp.quniform('VWAP_Window',5,250,1))),\n",
        "            # 'BBW_MA_Length': scope.int(hp.quniform('BBW_MA_Length',5,250,1)),\n",
        "            # 'Slow_MA': scope.int(hp.quniform('Slow_MA',5,250,1)),\n",
        "            # 'Fast_MA': scope.int(hp.quniform('Fast_MA',5,250,1)),\n",
        "            # 'Signal_MA': scope.int(hp.quniform('Signal_MA',5,250,1)),\n",
        "            # 'Signal_Threshold1': scope.int(hp.quniform('Signal_Threshold1',5,50,1)),\n",
        "            # 'Signal_Threshold2': scope.int(hp.quniform('Signal_Threshold2',5,50,1)),\n",
        "            # 'MACD_Length': scope.int(hp.randint('MACD_Length',1000)),\n",
        "            # 'BBp_Threshold': scope.int(hp.randint('BBp_Threshold',1000)),\n",
        "            'RSI_Threshold_BUY': scope.int(hp.randint('RSI_Threshold_BUY',100)),\n",
        "            'RSI_Threshold_SELL': scope.int(hp.randint('RSI_Threshold_SELL',100))\n",
        "            # 'TimeFrame': scope.int(hp.quniform('TimeFrame',1,60,1))\n",
        "            # 'ATR_Muliple': scope.int(hp.randint('ATR_Muliple',15))\n",
        "        }"
      ],
      "execution_count": null,
      "outputs": []
    },
    {
      "cell_type": "code",
      "metadata": {
        "id": "hhxBx8Jow-Ql",
        "colab": {
          "base_uri": "https://localhost:8080/"
        },
        "outputId": "201ecc47-bc38-4080-d7a0-ec51a2235189"
      },
      "source": [
        "def backtest3(params):\n",
        "\n",
        "\n",
        "  #--DECLARED VARIABLES--#\n",
        "  #|||||||||||||||||||||||#\n",
        "  MA_Length = params['MA_Length']\n",
        "  BBW_Threshold = 146 #params['BBW_Threshold']\n",
        "  # Signal_Threshold1 = params['Signal_Threshold1']\n",
        "  # Signal_Threshold2 = params['Signal_Threshold2']\n",
        "  # MACD_Length = params['MACD_Length']\n",
        "  RSI_Threshold_BUY = params['RSI_Threshold_BUY']\n",
        "  RSI_Threshold_SELL = params['RSI_Threshold_SELL']\n",
        "  # BBp_Threshold = params['BBp_Threshold']\n",
        "  VWAP_Window = 20 #params['VWAP_Window']\n",
        "  # ATR_Muliple = params['ATR_Muliple']\n",
        "  Inital_Capital = 10000\n",
        "  # _5min_df = main_df[::params['TimeFrame']]\n",
        "  \n",
        "\n",
        "  #--DATA SOURCE--#\n",
        "  # Close = _5min_df[['Date','Time','Open', 'Close', 'Volume', 'High', 'Low']]\n",
        "  Close = df\n",
        "\n",
        "\n",
        "  #--CALCULATES THE TECHINCAL INDICATORS--#\n",
        "  Close[\"SMA\"] = sma_indicator(Close.Close,  window=MA_Length)\n",
        "  Close['MACD'] = macd(Close.Close)\n",
        "  Close['BBW'] = 100*bollinger_wband(Close.Close, 20, 2)\n",
        "  Close['SIGNAL'] = 1000*macd_signal(Close.Close)\n",
        "  Close['RSI'] = 100*stochrsi(Close.Close)\n",
        "  Close['BB%'] = 100*bollinger_pband(Close.Close)\n",
        "  Close['VWAP'] = volume_weighted_average_price(Close.High, Close.Low, Close.Close, Close.Volume,window=VWAP_Window)\n",
        "  # Close['ATR'] = ATR_Muliple*average_true_range(Close.High,Close.Low, Close.Close)\n",
        "  Close['High_ATR_Price'] = Close.Close + Close.ATR\n",
        "  Close['Low_ATR_Price'] = Close.Close - Close.ATR\n",
        "\n",
        "  #--Defines the Buy and Sell Flags--#\n",
        "  Close['Buy'] = np.where(\n",
        "                        # (Close['SMA'] > Close['Close']) &\n",
        "                        (Close['SMA'].diff() > Close['SMA']) &\n",
        "                        # (Close['SMA'] < Close['VWAP'])\n",
        "                        # (Close.Close > Close.High_ATR_Price.shift(1))\n",
        "                        # (Close['VWAP'] > Close['Close'])\n",
        "                        # (Close['MACD'] < 0) &\n",
        "                        # (Close['SIGNAL'] > Signal_Threshold1) &\n",
        "                        # (Close['BBW'] > BBW_Threshold) &\n",
        "                        # (Close['BB%'] < BBp_Threshold)\n",
        "                        (Close['RSI'] < RSI_Threshold_BUY)\n",
        "                        , 1, 0)\n",
        "\n",
        "  Close['Sell'] = np.where(\n",
        "                          # (Close['SMA'] < Close['Close']) &\n",
        "                          (Close['SMA'].diff() < Close['SMA']) &\n",
        "                          #  (Close['SMA'] > Close['VWAP'])\n",
        "                          # (Close.Close < Close.Low_ATR_Price.shift(1))\n",
        "                          #  (Close['VWAP'] < Close['Close'])\n",
        "                          # (Close['MACD'] > 0) &\n",
        "                          # (Close['SIGNAL'] > Signal_Threshold2) &\n",
        "                          # (Close['BBW'] > BBW_Threshold) &\n",
        "                          # (Close['BB%'] > BBp_Threshold)\n",
        "                          (Close['RSI'] > RSI_Threshold_SELL)\n",
        "                          , 1, 0)\n",
        "  \n",
        "\n",
        "  #--Grabs the buy/sell price--#\n",
        "  Close['Buyprice'] = Close.Close\n",
        "  Close['Sellprice'] = Close.Close\n",
        "\n",
        "\n",
        "  #--Calculates the Profits--#\n",
        "  x = Close[(Close.Buy == 1) | (Close.Sell == 1)]\n",
        "  y = x[(x.Buy.diff() == 1) | x.Sell.diff() == 1]\n",
        "  profits = ((y.Sellprice.shift(-1) - y.Buyprice)*(100))\n",
        "  cumprofits = profits + Inital_Capital\n",
        "  profits = profits[::2]\n",
        "\n",
        "\n",
        "  #--Metrics--#\n",
        "  Total_Profits = profits.sum()\n",
        "  Hold_Period_Profits = (Close.iloc[0,2] - Close.iloc[-2,3])*-100\n",
        "  # Hold_Period_Profits = 7000\n",
        "  Profit_Diff = Total_Profits-Hold_Period_Profits\n",
        "  Benefit_Ratio = round(Total_Profits/Hold_Period_Profits,4)\n",
        "  Ave_Profits = round(profits.mean(),2)\n",
        "  ROI = round(Total_Profits/Inital_Capital,2)*100\n",
        "  \n",
        "  #--Objective--#\n",
        "  Loss_cat = -Benefit_Ratio\n",
        "\n",
        "  \n",
        "  #--Returns What is Needed the Run the HyperOpt--#\n",
        "  return {'loss': Loss_cat, 'status': STATUS_OK,'Trained_Model': Close}\n",
        "\n",
        "best_models = [[]for i in range(20)]\n",
        "\n",
        "#--Runs the HyperOpt--#\n",
        "for tests in range(0,20):\n",
        "  trials = Trials()\n",
        "  best_model = fmin(partial(backtest3),HyperOpt_space,algo=tpe.suggest,max_evals=50,trials=trials)\n",
        "  print(best_model)\n",
        "  best_score = trials.best_trial['result']['loss']\n",
        "  best_models[0].append(best_model)\n",
        "  best_models[1].append(best_score)\n",
        "\n",
        "\n",
        "\n"
      ],
      "execution_count": null,
      "outputs": [
        {
          "output_type": "stream",
          "name": "stdout",
          "text": [
            "100%|██████████| 50/50 [00:01<00:00, 30.23it/s, best loss: -0.0]\n",
            "{'MA_Length': 6, 'RSI_Threshold_BUY': 83, 'RSI_Threshold_SELL': 83}\n",
            "100%|██████████| 50/50 [00:01<00:00, 34.93it/s, best loss: -0.0]\n",
            "{'MA_Length': 100, 'RSI_Threshold_BUY': 76, 'RSI_Threshold_SELL': 35}\n",
            "  8%|▊         | 4/50 [00:00<00:01, 36.35it/s, best loss: -0.0]"
          ]
        }
      ]
    },
    {
      "cell_type": "code",
      "metadata": {
        "id": "LR8b6N6HGSjt"
      },
      "source": [
        "best_models = pd.DataFrame(best_models)"
      ],
      "execution_count": null,
      "outputs": []
    },
    {
      "cell_type": "code",
      "metadata": {
        "id": "qeXmHwvqdQs1"
      },
      "source": [
        "# SPY\n",
        "\n",
        "# 5 min, filtered\n",
        "\n",
        "#Best stochrsi\n",
        "#100%|██████████| 100/100 [00:04<00:00, 23.44it/s, best loss: -1.0098]\n",
        "#{'RSI_Threshold_BUY': 30, 'RSI_Threshold_SELL': 17}\n",
        "\n",
        "#Best MA + RSI\n",
        "#100%|██████████| 1000/1000 [00:54<00:00, 18.31it/s, best loss: -1.2769]\n",
        "#{'MA_Length': 3, 'RSI_Threshold_BUY': 28, 'RSI_Threshold_SELL': 30}\n",
        "\n",
        "#Best MA + RSI + BBW\n",
        "#100%|██████████| 200/200 [00:10<00:00, 19.14it/s, best loss: -1.3011]\n",
        "#{'BBW_Threshold': 44, 'MA_Length': 3, 'RSI_Threshold_BUY': 29, 'RSI_Threshold_SELL': 48}\n",
        "\n",
        "\n",
        "# 5 min, unfiltered\n",
        "\n",
        "# 100%|██████████| 20/20 [00:00<00:00, 22.27it/s, best loss: -1.4017]\n",
        "# {'BBW_Threshold': 54, 'MA_Length': 3}\n",
        "\n",
        "\n",
        "#5 min, kibot data, full \n",
        "\n",
        "# 100%|██████████| 105/105 [00:40<00:00,  2.61it/s, best loss: -1.472]\n",
        "# {'BBW_Threshold': 3, 'MA_Length': 6, 'RSI_Threshold_BUY': 91, 'RSI_Threshold_SELL': 15}\n",
        "\n",
        "# /\\\n",
        "# ||\n",
        "# Appears to work very well\n",
        "\n",
        "# 100%|██████████| 105/105 [00:40<00:00,  2.57it/s, best loss: -1.3261]\n",
        "# {'BBW_Threshold': 6, 'MA_Length': 25, 'RSI_Threshold_BUY': 61, 'RSI_Threshold_SELL': 97}\n",
        "\n",
        "# 100%|██████████| 20/20 [00:00<00:00, 22.27it/s, best loss: -1.7418]\n",
        "# {'BBW_Threshold': 3, 'MA_Length': 10}"
      ],
      "execution_count": null,
      "outputs": []
    },
    {
      "cell_type": "code",
      "metadata": {
        "id": "9YOcaNo4jzOW"
      },
      "source": [
        "# XLE\n",
        "\n",
        "# 5 min, kibot data, full\n",
        "\n",
        "# 100%|██████████| 150/150 [00:56<00:00,  2.65it/s, best loss: -2.0748]\n",
        "# {'BBW_Threshold': 11, 'MA_Length': 85, 'RSI_Threshold_BUY': 32, 'RSI_Threshold_SELL': 2}\n",
        "# 100%|██████████| 150/150 [00:56<00:00,  2.64it/s, best loss: -2.7666]\n",
        "# {'BBW_Threshold': 7, 'MA_Length': 3, 'RSI_Threshold_BUY': 49, 'RSI_Threshold_SELL': 27}\n",
        "# 100%|██████████| 150/150 [00:57<00:00,  2.63it/s, best loss: -1.8051]\n",
        "# {'BBW_Threshold': 12, 'MA_Length': 96, 'RSI_Threshold_BUY': 59, 'RSI_Threshold_SELL': 6}\n",
        "# 100%|██████████| 150/150 [00:56<00:00,  2.64it/s, best loss: -2.337]\n",
        "# {'BBW_Threshold': 4, 'MA_Length': 3, 'RSI_Threshold_BUY': 23, 'RSI_Threshold_SELL': 69}\n",
        "# 100%|██████████| 150/150 [00:56<00:00,  2.65it/s, best loss: -1.6251]\n",
        "# {'BBW_Threshold': 11, 'MA_Length': 94, 'RSI_Threshold_BUY': 63, 'RSI_Threshold_SELL': 44}\n",
        "# 100%|██████████| 50/50 [00:19<00:00,  2.60it/s, best loss: -1.76]\n",
        "# {'BBW_Threshold': 6, 'MA_Length': 153.0, 'RSI_Threshold_BUY': 89, 'RSI_Threshold_SELL': 70}\n",
        "# 100%|██████████| 50/50 [00:19<00:00,  2.62it/s, best loss: -2.0916]\n",
        "# {'BBW_Threshold': 1, 'MA_Length': 6.0, 'RSI_Threshold_BUY': 94, 'RSI_Threshold_SELL': 46}\n",
        "# 100%|██████████| 50/50 [00:19<00:00,  2.62it/s, best loss: -1.9234]\n",
        "# {'BBW_Threshold': 4, 'MA_Length': 44.0, 'RSI_Threshold_BUY': 16, 'RSI_Threshold_SELL': 87}\n",
        "# 100%|██████████| 50/50 [00:19<00:00,  2.57it/s, best loss: -1.8182]\n",
        "# {'BBW_Threshold': 8, 'MA_Length': 116.0, 'RSI_Threshold_BUY': 76, 'RSI_Threshold_SELL': 15}"
      ],
      "execution_count": null,
      "outputs": []
    },
    {
      "cell_type": "code",
      "metadata": {
        "id": "s03almd8-p5S"
      },
      "source": [
        "# EWZ\n",
        "\n",
        "# 5 min, kibot, full data\n",
        "\n",
        "# 100%|██████████| 50/50 [00:18<00:00,  2.76it/s, best loss: -35.9733]\n",
        "# {'BBW_Threshold': 19, 'MA_Length': 50.0, 'RSI_Threshold_BUY': 43, 'RSI_Threshold_SELL': 13}\n",
        "\n",
        "# 100%|██████████| 50/50 [00:18<00:00,  2.72it/s, best loss: -1.1627]\n",
        "# {'BBW_Threshold': 19, 'MA_Length': 46.0, 'RSI_Threshold_BUY': 75, 'RSI_Threshold_SELL': 7}"
      ],
      "execution_count": null,
      "outputs": []
    },
    {
      "cell_type": "code",
      "metadata": {
        "id": "6l6oVqJPcMSc"
      },
      "source": [
        "# GLD\n",
        "\n",
        "# 5 min, kibot, full range\n",
        "\n",
        "# 100%|██████████| 50/50 [00:15<00:00,  3.18it/s, best loss: -2.0686]\n",
        "# {'BBW_Threshold': 21, 'MA_Length': 118.0, 'RSI_Threshold_BUY': 55, 'RSI_Threshold_SELL': 76}\n",
        "# 100%|██████████| 50/50 [00:15<00:00,  3.17it/s, best loss: -1.9084]\n",
        "# {'BBW_Threshold': 17, 'MA_Length': 71.0, 'RSI_Threshold_BUY': 65, 'RSI_Threshold_SELL': 93}\n",
        "# 100%|██████████| 50/50 [00:15<00:00,  3.19it/s, best loss: -2.0088]\n",
        "# {'BBW_Threshold': 20, 'MA_Length': 246.0, 'RSI_Threshold_BUY': 52, 'RSI_Threshold_SELL': 2}\n",
        "# 100%|██████████| 50/50 [00:15<00:00,  3.16it/s, best loss: -1.8881]\n",
        "# {'BBW_Threshold': 19, 'MA_Length': 247.0, 'RSI_Threshold_BUY': 75, 'RSI_Threshold_SELL': 22}\n",
        "# 100%|██████████| 50/50 [00:15<00:00,  3.18it/s, best loss: -1.9204]\n",
        "# {'BBW_Threshold': 19, 'MA_Length': 9.0, 'RSI_Threshold_BUY': 87, 'RSI_Threshold_SELL': 12}\n",
        "# 100%|██████████| 250/250 [01:58<00:00,  2.12it/s, best loss: -3.5393]\n",
        "# {'BBW_Threshold': 10, 'MA_Length': 34.0, 'RSI_Threshold_BUY': 78, 'RSI_Threshold_SELL': 44}"
      ],
      "execution_count": null,
      "outputs": []
    },
    {
      "cell_type": "code",
      "metadata": {
        "id": "VEql9TNRTfvA"
      },
      "source": [
        "# PFE\n",
        "\n",
        "# 5 min, kibot, full range\n",
        "\n",
        "# 100%|██████████| 250/250 [02:35<00:00,  1.61it/s, best loss: -25.8984]\n",
        "# {'BBW_Threshold': 5.0, 'MA_Length': 5.0, 'RSI_Threshold_BUY': 93, 'RSI_Threshold_SELL': 6}"
      ],
      "execution_count": null,
      "outputs": []
    }
  ]
}